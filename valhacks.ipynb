{
 "cells": [
  {
   "cell_type": "code",
   "execution_count": 15,
   "metadata": {},
   "outputs": [],
   "source": [
    "from selenium import webdriver\n",
    "from selenium.webdriver.support.ui import WebDriverWait\n",
    "from selenium.webdriver.support import expected_conditions as EC\n",
    "from selenium.common.exceptions import TimeoutException\n",
    "import time\n",
    "import re\n",
    "from bs4 import BeautifulSoup\n",
    "import requests\n",
    "from collections import defaultdict\n",
    "import pickle"
   ]
  },
  {
   "cell_type": "code",
   "execution_count": null,
   "metadata": {},
   "outputs": [],
   "source": [
    "sites_to_scrape = [\"https://www.instagram.com/explore/locations/6889842/paris-france/\",\n",
    "                   \"https://www.instagram.com/explore/locations/213385402/london-united-kingdom/\",\n",
    "                   \"https://www.instagram.com/explore/locations/118001404/copenhagen-denmark/\",\n",
    "                   \"https://www.instagram.com/explore/locations/212988663/new-york-new-york/\",\n",
    "                   \"https://www.instagram.com/explore/locations/116231/amsterdam-netherlands/\",\n",
    "                   \"https://www.instagram.com/explore/locations/274029466/singapore/\"]\n",
    "\n",
    "scroll = 350\n",
    "allLinks = set()\n",
    "userStore = defaultdict(list)\n",
    "\n",
    "path_to_chromedriver = 'C:\\\\Users\\\\njacobsen\\\\Documents\\\\Chrome Driver\\\\chromedriver.exe'\n",
    "driver = webdriver.Chrome(executable_path = path_to_chromedriver)"
   ]
  },
  {
   "cell_type": "code",
   "execution_count": null,
   "metadata": {},
   "outputs": [],
   "source": [
    "driver.get(sites_to_scrape[-1])\n",
    "\n",
    "for i in range(scroll):\n",
    "    try:\n",
    "        driver.execute_script(\"window.scrollBy(0,500)\")\n",
    "    except:\n",
    "        pass\n",
    "    time.sleep(2)\n",
    "    scrapeLinks = [x.get_attribute('href') for x in driver.find_elements_by_css_selector('a')]\n",
    "    cleanLinks = [x for x in scrapeLinks if x != None and \"/p/\" in x]\n",
    "    allLinks.update(cleanLinks)\n",
    "\n",
    "pickle.dump( allLinks, open( \"singapore.p\", \"wb\" ) )"
   ]
  },
  {
   "cell_type": "code",
   "execution_count": null,
   "metadata": {
    "collapsed": true
   },
   "outputs": [],
   "source": [
    "allLinks = pickle.load( open( \"paris.p\", \"rb\" ) )"
   ]
  },
  {
   "cell_type": "code",
   "execution_count": null,
   "metadata": {},
   "outputs": [],
   "source": [
    "userStore = defaultdict(list)\n",
    "\n",
    "for i in list(allLinks):\n",
    "    driver.get(i)\n",
    "    try:\n",
    "        likes = re.sub(\"\\D\",\"\",driver.find_elements_by_class_name(\"_nzn1h\")[0].text)\n",
    "    except:\n",
    "        likes = 0\n",
    "\n",
    "    soup = BeautifulSoup(driver.page_source, \"lxml\")\n",
    "    try:\n",
    "        userName = [x.get_attribute('href') for x in driver.find_elements_by_css_selector('a')][0][26:-1]\n",
    "    except:\n",
    "        continue\n",
    "    try:\n",
    "        image_list = [] # create empty list to save img urls\n",
    "        for link in soup.find_all('img'): # find img tags in HTML\n",
    "            m = re.search('src=\"(.+?)\"', str(link))\n",
    "            image_list.append(m.group(1)) # append url path to list\n",
    "    except:\n",
    "        continue\n",
    "    try:\n",
    "        img = image_list[1]\n",
    "        userStore[userName].append([img, \"copenhagen\", likes])\n",
    "    except:\n",
    "        pass\n",
    "    "
   ]
  },
  {
   "cell_type": "code",
   "execution_count": null,
   "metadata": {},
   "outputs": [],
   "source": [
    "paris = pickle.load( open( \"paris.p\", \"rb\" ) )\n",
    "amsterdam = pickle.load( open( \"amsterdam.p\", \"rb\" ) )\n",
    "copenhagen = pickle.load( open( \"copenhagen.p\", \"rb\" ) )\n",
    "newyork = pickle.load( open( \"newyork.p\", \"rb\" ) )\n",
    "london = pickle.load( open( \"london.p\", \"rb\" ) )\n",
    "singapore = pickle.load( open( \"singapore.p\", \"rb\" ) )\n",
    "\n",
    "allLinks = list(paris)+list(amsterdam)+list(copenhagen)+list(newyork)+list(london)+list(singapore)\n",
    "allLinks = set(allLinks)"
   ]
  },
  {
   "cell_type": "code",
   "execution_count": null,
   "metadata": {
    "collapsed": true
   },
   "outputs": [],
   "source": [
    "userNames = []"
   ]
  },
  {
   "cell_type": "code",
   "execution_count": null,
   "metadata": {},
   "outputs": [],
   "source": [
    "for i in list(allLinks):\n",
    "    driver.get(i)\n",
    "    try:\n",
    "        name = driver.find_elements_by_class_name(\"_eeohz\")[0].text\n",
    "    except:\n",
    "        continue\n",
    "    userNames.append(name)"
   ]
  },
  {
   "cell_type": "code",
   "execution_count": null,
   "metadata": {},
   "outputs": [],
   "source": [
    "uniqueUsers = set(userNames)"
   ]
  },
  {
   "cell_type": "code",
   "execution_count": null,
   "metadata": {
    "collapsed": true
   },
   "outputs": [],
   "source": [
    "uniqueUsers = pickle.load( open( \"uniqueUsers.p\", \"rb\" ) )"
   ]
  },
  {
   "cell_type": "code",
   "execution_count": 58,
   "metadata": {},
   "outputs": [
    {
     "ename": "KeyboardInterrupt",
     "evalue": "",
     "output_type": "error",
     "traceback": [
      "\u001b[1;31m---------------------------------------------------------------------------\u001b[0m",
      "\u001b[1;31mKeyboardInterrupt\u001b[0m                         Traceback (most recent call last)",
      "\u001b[1;32m<ipython-input-58-97836acff6a2>\u001b[0m in \u001b[0;36m<module>\u001b[1;34m()\u001b[0m\n\u001b[0;32m     15\u001b[0m         \u001b[1;32mexcept\u001b[0m\u001b[1;33m:\u001b[0m\u001b[1;33m\u001b[0m\u001b[0m\n\u001b[0;32m     16\u001b[0m             \u001b[1;32mpass\u001b[0m\u001b[1;33m\u001b[0m\u001b[0m\n\u001b[1;32m---> 17\u001b[1;33m         \u001b[0mtime\u001b[0m\u001b[1;33m.\u001b[0m\u001b[0msleep\u001b[0m\u001b[1;33m(\u001b[0m\u001b[1;36m2\u001b[0m\u001b[1;33m)\u001b[0m\u001b[1;33m\u001b[0m\u001b[0m\n\u001b[0m\u001b[0;32m     18\u001b[0m \u001b[1;33m\u001b[0m\u001b[0m\n\u001b[0;32m     19\u001b[0m         \u001b[0mscrapeLinks\u001b[0m \u001b[1;33m=\u001b[0m \u001b[1;33m[\u001b[0m\u001b[0mx\u001b[0m\u001b[1;33m.\u001b[0m\u001b[0mget_attribute\u001b[0m\u001b[1;33m(\u001b[0m\u001b[1;34m'href'\u001b[0m\u001b[1;33m)\u001b[0m \u001b[1;32mfor\u001b[0m \u001b[0mx\u001b[0m \u001b[1;32min\u001b[0m \u001b[0mdriver\u001b[0m\u001b[1;33m.\u001b[0m\u001b[0mfind_elements_by_css_selector\u001b[0m\u001b[1;33m(\u001b[0m\u001b[1;34m'a'\u001b[0m\u001b[1;33m)\u001b[0m\u001b[1;33m]\u001b[0m\u001b[1;33m\u001b[0m\u001b[0m\n",
      "\u001b[1;31mKeyboardInterrupt\u001b[0m: "
     ]
    }
   ],
   "source": [
    "uniqueUsers = list(pickle.load( open( \"uniqueUsers.p\", \"rb\" ) ))\n",
    "\n",
    "path_to_chromedriver = 'C:\\\\Users\\\\njacobsen\\\\Documents\\\\Chrome Driver\\\\chromedriver.exe'\n",
    "driver = webdriver.Chrome(executable_path = path_to_chromedriver)\n",
    "userStore = defaultdict(list)\n",
    "scroll = 7\n",
    "\n",
    "for user in uniqueUsers[0:100]:\n",
    "    userLinks = set()\n",
    "    driver.get(\"https://www.instagram.com/\"+user)\n",
    "\n",
    "    for i in range(scroll):\n",
    "        try:\n",
    "            driver.execute_script(\"window.scrollBy(0,500)\")\n",
    "        except:\n",
    "            pass\n",
    "        time.sleep(2)\n",
    "\n",
    "        scrapeLinks = [x.get_attribute('href') for x in driver.find_elements_by_css_selector('a')]\n",
    "        cleanLinks = [x for x in scrapeLinks if x != None and \"/p/\" in x]\n",
    "        userLinks.update(cleanLinks)\n",
    "        \n",
    "    for link in userLinks:\n",
    "        driver.get(link)\n",
    "        soup = BeautifulSoup(driver.page_source, \"lxml\")\n",
    "        try:\n",
    "            place = driver.find_elements_by_class_name(\"_6y8ij\")[0].text\n",
    "        except:\n",
    "            place = \"no place\"\n",
    "            \n",
    "        try:\n",
    "            likes = re.sub(\"\\D\",\"\",driver.find_elements_by_class_name(\"_nzn1h\")[0].text)\n",
    "        except:\n",
    "            likes = 0\n",
    "            \n",
    "        try:\n",
    "            image_list = [] # create empty list to save img urls\n",
    "            for stuff in soup.find_all('img'): # find img tags in HTML\n",
    "                m = re.search('src=\"(.+?)\"', str(stuff))\n",
    "                image_list.append(m.group(1)) # append url path to list\n",
    "            img = image_list[1]\n",
    "        except:\n",
    "            pass\n",
    "        userStore[user].append([link, place, likes, img])"
   ]
  },
  {
   "cell_type": "code",
   "execution_count": 59,
   "metadata": {},
   "outputs": [],
   "source": [
    "pickle.dump(userStore,open(\"userStore.p\", \"wb\"))"
   ]
  },
  {
   "cell_type": "code",
   "execution_count": 61,
   "metadata": {},
   "outputs": [
    {
     "data": {
      "text/plain": [
       "77"
      ]
     },
     "execution_count": 61,
     "metadata": {},
     "output_type": "execute_result"
    }
   ],
   "source": [
    "len(userStore.keys())"
   ]
  },
  {
   "cell_type": "code",
   "execution_count": 51,
   "metadata": {},
   "outputs": [
    {
     "data": {
      "text/plain": [
       "36"
      ]
     },
     "execution_count": 51,
     "metadata": {},
     "output_type": "execute_result"
    }
   ],
   "source": [
    "len(userStore['ingridivorra'])"
   ]
  },
  {
   "cell_type": "code",
   "execution_count": 57,
   "metadata": {},
   "outputs": [
    {
     "data": {
      "text/plain": [
       "[['https://www.instagram.com/p/Bg1Kre5gRV1/?taken-by=mcangeluk',\n",
       "  'no place',\n",
       "  '52',\n",
       "  'https://scontent-arn2-1.cdninstagram.com/vp/f64124074d212792bc0578b1e660037f/5B9BC86A/t51.2885-15/e35/29417102_240315593182134_4953292989708369920_n.jpg'],\n",
       " ['https://www.instagram.com/p/BhKBYPnAF2U/?taken-by=mcangeluk',\n",
       "  'London, United Kingdom',\n",
       "  '80',\n",
       "  'https://scontent-arn2-1.cdninstagram.com/vp/ae10971488d20ec37924637beb12cdef/5B9BBCEA/t51.2885-15/e35/29739165_2023011527938540_3925264624353542144_n.jpg'],\n",
       " ['https://www.instagram.com/p/BgpBEq6gTFR/?taken-by=mcangeluk',\n",
       "  'The Shard London',\n",
       "  '61',\n",
       "  'https://scontent-arn2-1.cdninstagram.com/vp/0a98b13c9a633c3b88752332e1f69ce8/5B60E461/t51.2885-15/e35/29094427_252414571968508_9031024932980523008_n.jpg'],\n",
       " ['https://www.instagram.com/p/Bhj-jpNB17a/?taken-by=mcangeluk',\n",
       "  'no place',\n",
       "  '48',\n",
       "  'https://scontent-arn2-1.cdninstagram.com/vp/f1bca19622efeaadc761b54bd67c3393/5B64A227/t51.2885-15/e35/30589875_441658606262752_3660940469963063296_n.jpg'],\n",
       " ['https://www.instagram.com/p/BggxLLBgP_3/?taken-by=mcangeluk',\n",
       "  'London, United Kingdom',\n",
       "  '76',\n",
       "  'https://scontent-arn2-1.cdninstagram.com/vp/a7d8460ccb59da104436053b7488ede5/5B651365/t51.2885-15/e35/28765397_193186534745779_3711977188384309248_n.jpg'],\n",
       " ['https://www.instagram.com/p/BhEkBWpAWJK/?taken-by=mcangeluk',\n",
       "  'London, United Kingdom',\n",
       "  0,\n",
       "  'https://scontent-arn2-1.cdninstagram.com/vp/45d930261b92bbad165633121a7f65e8/5ADDCFAA/t51.2885-15/e15/29737334_155968255070653_5626388401637818368_n.jpg'],\n",
       " ['https://www.instagram.com/p/BgMi_96B7Jm/?taken-by=mcangeluk',\n",
       "  'no place',\n",
       "  '62',\n",
       "  'https://scontent-arn2-1.cdninstagram.com/vp/b6d0fe496b067f4282a72cde81466772/5B6B4B3C/t51.2885-15/e35/28752758_1909461109366140_9045058532461772800_n.jpg'],\n",
       " ['https://www.instagram.com/p/BgvinPyASxG/?taken-by=mcangeluk',\n",
       "  'no place',\n",
       "  '56',\n",
       "  'https://scontent-arn2-1.cdninstagram.com/vp/26e404ddcc0a80f31c15358b28caa3dc/5B679270/t51.2885-15/e35/29402310_155935468423319_5924789814397239296_n.jpg'],\n",
       " ['https://www.instagram.com/p/BhB_CEtgtTt/?taken-by=mcangeluk',\n",
       "  'Camden Centre',\n",
       "  '93',\n",
       "  'https://scontent-arn2-1.cdninstagram.com/vp/4546e82709dcd47a243febc456ca9119/5B5FFCEB/t51.2885-15/e35/29403711_351095705396157_2476877037961216000_n.jpg'],\n",
       " ['https://www.instagram.com/p/Bgn_9uhAjHg/?taken-by=mcangeluk',\n",
       "  'London, United Kingdom',\n",
       "  '89',\n",
       "  'https://scontent-arn2-1.cdninstagram.com/vp/04a1ed0a0ffede31794d540033a60ed9/5B568D3D/t51.2885-15/e35/28764218_741325819590386_3757819380084244480_n.jpg'],\n",
       " ['https://www.instagram.com/p/BhdqxqChPgR/?taken-by=mcangeluk',\n",
       "  'no place',\n",
       "  '92',\n",
       "  'https://scontent-arn2-1.cdninstagram.com/vp/3ae1779666353f50944e921f73b3f65e/5B559C81/t51.2885-15/e35/29739583_1868404296795465_7035973853318742016_n.jpg'],\n",
       " ['https://www.instagram.com/p/BgZRR_VApoG/?taken-by=mcangeluk',\n",
       "  'London, United Kingdom',\n",
       "  0,\n",
       "  'https://scontent-arn2-1.cdninstagram.com/vp/67bebddf2b2ffca27695d936ab5bbae4/5ADDF783/t51.2885-15/e15/29090832_1622073857857872_5283301796943495168_n.jpg'],\n",
       " ['https://www.instagram.com/p/BhLfIdygzfj/?taken-by=mcangeluk',\n",
       "  'no place',\n",
       "  '96',\n",
       "  'https://scontent-arn2-1.cdninstagram.com/vp/a4bd41556e58a96662fc09e00774ef84/5B55D40A/t51.2885-15/e35/29736907_165978070783211_6797765659888451584_n.jpg'],\n",
       " ['https://www.instagram.com/p/BgUNAFwA5_u/?taken-by=mcangeluk',\n",
       "  'London, United Kingdom',\n",
       "  '28',\n",
       "  'https://scontent-arn2-1.cdninstagram.com/vp/b02bf15d12efc3baea3ec6102b963218/5B6C9C21/t51.2885-15/e35/28435508_2115154478501354_1109458621709680640_n.jpg'],\n",
       " ['https://www.instagram.com/p/BgbVuOuACqM/?taken-by=mcangeluk',\n",
       "  'Eventim Apollo',\n",
       "  '133',\n",
       "  'https://scontent-arn2-1.cdninstagram.com/vp/86c8201ae080603c764ba8a013be22db/5B603BDC/t51.2885-15/e35/29088880_1858709727752494_1563865586100862976_n.jpg'],\n",
       " ['https://www.instagram.com/p/BgtqSFFguwk/?taken-by=mcangeluk',\n",
       "  'London, United Kingdom',\n",
       "  '94',\n",
       "  'https://scontent-arn2-1.cdninstagram.com/vp/f71100779b001ea6272ee57dcc438b9f/5B651255/t51.2885-15/e35/29401024_451771195241774_3098062590387945472_n.jpg'],\n",
       " ['https://www.instagram.com/p/Bhs8WZCnTsx/?taken-by=mcangeluk',\n",
       "  'Ministry of Sound',\n",
       "  '74',\n",
       "  'https://scontent-arn2-1.cdninstagram.com/vp/a3dc8498ad27b293800f38131dc0d946/5B706A61/t51.2885-15/e35/30077876_392911607786008_8941997605328519168_n.jpg'],\n",
       " ['https://www.instagram.com/p/Bhq0FjjHTgv/?taken-by=mcangeluk',\n",
       "  'London, United Kingdom',\n",
       "  '84',\n",
       "  'https://scontent-arn2-1.cdninstagram.com/vp/dc7c45e4e17b31ef3bfdb394ffb37e53/5B61B23D/t51.2885-15/e35/30084309_1667078496701954_334763709693952000_n.jpg'],\n",
       " ['https://www.instagram.com/p/BhZZZuyAuWl/?taken-by=mcangeluk',\n",
       "  'Egg London',\n",
       "  '67',\n",
       "  'https://scontent-arn2-1.cdninstagram.com/vp/7ac21f313992d3ce31ac38429999543f/5B6F2757/t51.2885-15/e35/30078672_301775943687991_5205215902773018624_n.jpg'],\n",
       " ['https://www.instagram.com/p/Bg9VVuCA8tH/?taken-by=mcangeluk',\n",
       "  'London, United Kingdom',\n",
       "  '106',\n",
       "  'https://scontent-arn2-1.cdninstagram.com/vp/b2a2790dbc3325a5fd4c23db249afc89/5B5F0348/t51.2885-15/e35/29400665_1617485238305185_2486495535616229376_n.jpg'],\n",
       " ['https://www.instagram.com/p/Bgjl_HIgDe6/?taken-by=mcangeluk',\n",
       "  'London, United Kingdom',\n",
       "  '112',\n",
       "  'https://scontent-arn2-1.cdninstagram.com/vp/64ca98a5e1bfcefbb415cc0852a97898/5B5A5F73/t51.2885-15/e35/29088588_1962164207445679_149724608637960192_n.jpg'],\n",
       " ['https://www.instagram.com/p/BgQYfzXguBA/?taken-by=mcangeluk',\n",
       "  'London, United Kingdom',\n",
       "  '67',\n",
       "  'https://scontent-arn2-1.cdninstagram.com/vp/b236fab26a085928a833c32d0e63c2c1/5B529870/t51.2885-15/e35/29092535_224979918064779_8649095825177182208_n.jpg'],\n",
       " ['https://www.instagram.com/p/Bg3-He-gLkD/?taken-by=mcangeluk',\n",
       "  'London, United Kingdom',\n",
       "  '113',\n",
       "  'https://scontent-arn2-1.cdninstagram.com/vp/a0b6a639899ea2b3886cdb3dd03bbb4e/5B766A3A/t51.2885-15/e35/29093097_260406071166715_1455671580343402496_n.jpg'],\n",
       " ['https://www.instagram.com/p/Bhyh-j0hbyN/?taken-by=mcangeluk',\n",
       "  'no place',\n",
       "  '68',\n",
       "  'https://scontent-arn2-1.cdninstagram.com/vp/5ada284562bf1e098c9c25020613a551/5B5D76D3/t51.2885-15/e35/30593416_901831896692207_6462383449134071808_n.jpg'],\n",
       " ['https://www.instagram.com/p/Bh1ZyLXBG1r/?taken-by=mcangeluk',\n",
       "  'London, United Kingdom',\n",
       "  '40',\n",
       "  'https://scontent-arn2-1.cdninstagram.com/vp/75c2279d1604c5960764ab984eea0957/5B99EE51/t51.2885-15/e35/30604796_1350448218434664_9198251584889290752_n.jpg'],\n",
       " ['https://www.instagram.com/p/BhT4_lzAK9f/?taken-by=mcangeluk',\n",
       "  'Soho Radio',\n",
       "  '68',\n",
       "  'https://scontent-arn2-1.cdninstagram.com/vp/8823a2fcde91486f0c4bb25b12d10ae3/5B5FE2A4/t51.2885-15/e35/29717043_2144730455798054_2619393209712771072_n.jpg'],\n",
       " ['https://www.instagram.com/p/Bg5rFwVAS5S/?taken-by=mcangeluk',\n",
       "  'London, United Kingdom',\n",
       "  '141',\n",
       "  'https://scontent-arn2-1.cdninstagram.com/vp/7ede884aa8348ac3509f326a6116f983/5B79C99F/t51.2885-15/e35/29401494_194058554533777_580850569657188352_n.jpg'],\n",
       " ['https://www.instagram.com/p/BgeTzm1AfKT/?taken-by=mcangeluk',\n",
       "  'Trafalgar Square',\n",
       "  0,\n",
       "  'https://scontent-arn2-1.cdninstagram.com/vp/4bfbd89c97bf1654f48571327f8a5200/5ADDDE30/t51.2885-15/e15/29095253_211900982892253_4644574700431736832_n.jpg'],\n",
       " ['https://www.instagram.com/p/BhgURdvnfvR/?taken-by=mcangeluk',\n",
       "  'Camden Centre',\n",
       "  '89',\n",
       "  'https://scontent-arn2-1.cdninstagram.com/vp/234f47868822ba9feed69eb26664c28f/5B6F702B/t51.2885-15/e35/30077444_185379655597634_6657708842245160960_n.jpg'],\n",
       " ['https://www.instagram.com/p/Bg_zIy7AoBq/?taken-by=mcangeluk',\n",
       "  'London, United Kingdom',\n",
       "  '87',\n",
       "  'https://scontent-arn2-1.cdninstagram.com/vp/78c28ad7b48da33c04bef7e91b401909/5B6F7999/t51.2885-15/e35/29402716_2034882266752302_3587968696431149056_n.jpg'],\n",
       " ['https://www.instagram.com/p/BglyDPHAB_g/?taken-by=mcangeluk',\n",
       "  'London, United Kingdom',\n",
       "  '41',\n",
       "  'https://scontent-arn2-1.cdninstagram.com/vp/707e9a627a485edd79bdbb2e7b8c93c3/5B71FBD3/t51.2885-15/e35/29089738_183109215640445_3974803606074294272_n.jpg'],\n",
       " ['https://www.instagram.com/p/BhN6DH7hZG3/?taken-by=mcangeluk',\n",
       "  'Camden Centre',\n",
       "  '68',\n",
       "  'https://scontent-arn2-1.cdninstagram.com/vp/2eef79b1414b9f25760f1a33f49b44c7/5B5B5692/t51.2885-15/e35/29417044_496020864125246_8444198899878461440_n.jpg'],\n",
       " ['https://www.instagram.com/p/BgJkqF6AzNh/?taken-by=mcangeluk',\n",
       "  'Vault Festival',\n",
       "  '48',\n",
       "  'https://scontent-arn2-1.cdninstagram.com/vp/17e8fbfc343f581bd8e688d6c5beb40b/5B6010A8/t51.2885-15/e35/28752381_175796489714415_9066399009479852032_n.jpg'],\n",
       " ['https://www.instagram.com/p/BgCM1hnhPVT/?taken-by=mcangeluk',\n",
       "  'Soho Radio',\n",
       "  '66',\n",
       "  'https://scontent-arn2-1.cdninstagram.com/vp/cce9a9a36c06501205222ca6a9032a44/5B69B024/t51.2885-15/e35/28433227_2035060100084293_3016800464822861824_n.jpg'],\n",
       " ['https://www.instagram.com/p/BhR5ufVgeN-/?taken-by=mcangeluk',\n",
       "  'London, United Kingdom',\n",
       "  '98',\n",
       "  'https://scontent-arn2-1.cdninstagram.com/vp/30408ec7050328e7b797173658540421/5B66A42C/t51.2885-15/e35/29714762_348411272346761_1524835603374407680_n.jpg'],\n",
       " ['https://www.instagram.com/p/BgdPcYQgsKC/?taken-by=mcangeluk',\n",
       "  'Eventim Apollo',\n",
       "  '79',\n",
       "  'https://scontent-arn2-1.cdninstagram.com/vp/83ee88ea64c77a6ad7ee60ffa8039b0d/5B6D29B1/t51.2885-15/e35/29094565_1353490088089842_2877991653006639104_n.jpg']]"
      ]
     },
     "execution_count": 57,
     "metadata": {},
     "output_type": "execute_result"
    }
   ],
   "source": [
    "userStore['mcangeluk']"
   ]
  },
  {
   "cell_type": "code",
   "execution_count": 55,
   "metadata": {},
   "outputs": [
    {
     "data": {
      "text/plain": [
       "36"
      ]
     },
     "execution_count": 55,
     "metadata": {},
     "output_type": "execute_result"
    }
   ],
   "source": [
    "len(userStore['bbasjtr_singapore'])"
   ]
  },
  {
   "cell_type": "code",
   "execution_count": 56,
   "metadata": {},
   "outputs": [
    {
     "data": {
      "text/plain": [
       "[['https://www.instagram.com/p/BheTS4MlJnI/?taken-by=bbasjtr_singapore',\n",
       "  'Singapore',\n",
       "  '974',\n",
       "  'https://scontent-arn2-1.cdninstagram.com/vp/0452c0fdd2e8fa6c38430c95220a201b/5B648DBC/t51.2885-15/e35/29737977_208379079927148_7673436026127253504_n.jpg'],\n",
       " ['https://www.instagram.com/p/BhTd_tLnmx5/?taken-by=bbasjtr_singapore',\n",
       "  'Singapore',\n",
       "  0,\n",
       "  'https://scontent-arn2-1.cdninstagram.com/vp/aadb9dd9d2fb06f3ba1905fb82a04b7b/5ADE37F8/t51.2885-15/e15/29714559_172013913451272_1446645994333667328_n.jpg'],\n",
       " ['https://www.instagram.com/p/BhWhjmQHZQD/?taken-by=bbasjtr_singapore',\n",
       "  'Singapore',\n",
       "  '618',\n",
       "  'https://scontent-arn2-1.cdninstagram.com/vp/03294dd1c16c8bbcf26355dba7d09b93/5ADE5306/t51.2885-15/e15/30085096_389787064871565_7162838111976685568_n.jpg'],\n",
       " ['https://www.instagram.com/p/BhbbzfalI26/?taken-by=bbasjtr_singapore',\n",
       "  'Singapore',\n",
       "  0,\n",
       "  'https://scontent-arn2-1.cdninstagram.com/vp/aba79c3359a56db8f664e980016dad0e/5ADE2506/t51.2885-15/e15/29737778_189964078475950_2329050774803316736_n.jpg'],\n",
       " ['https://www.instagram.com/p/BhgznnFlzTD/?taken-by=bbasjtr_singapore',\n",
       "  'Singapore',\n",
       "  '631',\n",
       "  'https://scontent-arn2-1.cdninstagram.com/vp/6855ebe798d70ecfb3436fba375daf7c/5B69E1FB/t51.2885-15/e35/30085441_895787900580795_3939258345063448576_n.jpg'],\n",
       " ['https://www.instagram.com/p/BhURnHVHcAn/?taken-by=bbasjtr_singapore',\n",
       "  'Singapore',\n",
       "  '939',\n",
       "  'https://scontent-arn2-1.cdninstagram.com/vp/468f0b90f7a2ceb5c39a235ca816641e/5B7652D5/t51.2885-15/e35/30085483_1859044800814434_8673956435916226560_n.jpg'],\n",
       " ['https://www.instagram.com/p/BheP4nMFzm7/?taken-by=bbasjtr_singapore',\n",
       "  'Singapore',\n",
       "  '642',\n",
       "  'https://scontent-arn2-1.cdninstagram.com/vp/9d96f1333f3c6eef3fd562505721bd77/5B7922A2/t51.2885-15/e35/30592638_240374123195807_1665022081785397248_n.jpg'],\n",
       " ['https://www.instagram.com/p/BhrDpAJlXSC/?taken-by=bbasjtr_singapore',\n",
       "  'Singapore',\n",
       "  0,\n",
       "  'https://scontent-arn2-1.cdninstagram.com/vp/aa1dd23ea483839d93f97d9936814253/5ADE35D8/t51.2885-15/e15/30078416_2028131660736742_8921308438626041856_n.jpg'],\n",
       " ['https://www.instagram.com/p/Bhy1Q-BlnUH/?taken-by=bbasjtr_singapore',\n",
       "  'Singapore',\n",
       "  '1035',\n",
       "  'https://scontent-arn2-1.cdninstagram.com/vp/3e4833dfc480b05d96b172feb562358c/5B76B629/t51.2885-15/e35/30086179_158708974961406_6735533971771228160_n.jpg'],\n",
       " ['https://www.instagram.com/p/Bhbfx9xF6Yb/?taken-by=bbasjtr_singapore',\n",
       "  'Singapore',\n",
       "  0,\n",
       "  'https://scontent-arn2-1.cdninstagram.com/vp/cc69fc776a98b68e85045459b1218e13/5ADE02D8/t51.2885-15/e15/29739328_293114764556560_1835647311250718720_n.jpg'],\n",
       " ['https://www.instagram.com/p/Bhq3ippl67C/?taken-by=bbasjtr_singapore',\n",
       "  'Singapore',\n",
       "  0,\n",
       "  'https://scontent-arn2-1.cdninstagram.com/vp/cdd3f740f145efb50aec20255121a28b/5ADE26C6/t51.2885-15/e15/30077588_2057125814612714_4566271420786540544_n.jpg'],\n",
       " ['https://www.instagram.com/p/Bh1W-3NFAO8/?taken-by=bbasjtr_singapore',\n",
       "  'Singapore',\n",
       "  '512',\n",
       "  'https://scontent-arn2-1.cdninstagram.com/vp/4da2e571718a89d8a90266fe6ce15472/5B600EDD/t51.2885-15/e35/30855815_168230910556875_6930331899948695552_n.jpg'],\n",
       " ['https://www.instagram.com/p/BhbfWfHlnfU/?taken-by=bbasjtr_singapore',\n",
       "  'Singapore',\n",
       "  0,\n",
       "  'https://scontent-arn2-1.cdninstagram.com/vp/45819e1a5bb1a13b668b40f971f50bdd/5ADE5C8B/t51.2885-15/e15/29737065_178978162748937_7754238779170226176_n.jpg'],\n",
       " ['https://www.instagram.com/p/BhWeBIuHrdX/?taken-by=bbasjtr_singapore',\n",
       "  'Singapore',\n",
       "  '608',\n",
       "  'https://scontent-arn2-1.cdninstagram.com/vp/c49200da8ede2321103114cede3d812e/5B5A29B6/t51.2885-15/e35/30077720_1582845925146369_3662405058105966592_n.jpg'],\n",
       " ['https://www.instagram.com/p/BhoXKK4F4HQ/?taken-by=bbasjtr_singapore',\n",
       "  'Singapore',\n",
       "  0,\n",
       "  'https://scontent-arn2-1.cdninstagram.com/vp/eec11205d096ef5e541af3319f1724ff/5ADDD4AD/t51.2885-15/e15/30086932_362853057560329_9206468677665292288_n.jpg'],\n",
       " ['https://www.instagram.com/p/BhTxrnkHAx2/?taken-by=bbasjtr_singapore',\n",
       "  'Singapore',\n",
       "  '1157',\n",
       "  'https://scontent-arn2-1.cdninstagram.com/vp/51d10323f54658dcdca211bb21fa4ec5/5B528F75/t51.2885-15/e35/29737446_2000633093509933_6071426599247413248_n.jpg'],\n",
       " ['https://www.instagram.com/p/BhbdKYSFdpP/?taken-by=bbasjtr_singapore',\n",
       "  'Singapore',\n",
       "  0,\n",
       "  'https://scontent-arn2-1.cdninstagram.com/vp/a11e8fa204ba56bfec5c8e36468fe2eb/5ADDF583/t51.2885-15/e15/30593590_795385384003972_3216501828313153536_n.jpg'],\n",
       " ['https://www.instagram.com/p/BhjRHZdFjl2/?taken-by=bbasjtr_singapore',\n",
       "  'Singapore',\n",
       "  '623',\n",
       "  'https://scontent-arn2-1.cdninstagram.com/vp/9937c4c5c8336854c79d22952651ab44/5B9AB6A0/t51.2885-15/e35/30085522_755959491458275_5934519706324041728_n.jpg'],\n",
       " ['https://www.instagram.com/p/BhwdiqAFY2k/?taken-by=bbasjtr_singapore',\n",
       "  'Singapore',\n",
       "  '726',\n",
       "  'https://scontent-arn2-1.cdninstagram.com/vp/482045f1325a50350f8f959e5f8137ef/5B713C0A/t51.2885-15/e35/30084439_468808400203125_6954893426345115648_n.jpg'],\n",
       " ['https://www.instagram.com/p/BhWn6VxnwjH/?taken-by=bbasjtr_singapore',\n",
       "  'Singapore',\n",
       "  '483',\n",
       "  'https://scontent-arn2-1.cdninstagram.com/vp/d5bb43a4f74dbc3990f388cf462c5c5b/5B6D8D66/t51.2885-15/e35/29717396_130097917838755_6441787414502440960_n.jpg'],\n",
       " ['https://www.instagram.com/p/Bhbiv1CFyFO/?taken-by=bbasjtr_singapore',\n",
       "  'Singapore',\n",
       "  0,\n",
       "  'https://scontent-arn2-1.cdninstagram.com/vp/4c02978d7ed9e24ecc890334f7d6e182/5ADE22DA/t51.2885-15/e15/29737859_167182447321517_4989495977715957760_n.jpg'],\n",
       " ['https://www.instagram.com/p/Bhod-malp-T/?taken-by=bbasjtr_singapore',\n",
       "  'Singapore',\n",
       "  '1029',\n",
       "  'https://scontent-arn2-1.cdninstagram.com/vp/2d41be00f1ba0669d038efb7690ea713/5B6F0FF2/t51.2885-15/e35/30077510_1703441563037591_8962624430580695040_n.jpg'],\n",
       " ['https://www.instagram.com/p/BhbadILF6FP/?taken-by=bbasjtr_singapore',\n",
       "  'Singapore',\n",
       "  '566',\n",
       "  'https://scontent-arn2-1.cdninstagram.com/vp/c4b9ba3d3e1c67241a06809a2a28d567/5B5E0293/t51.2885-15/e35/30078930_355701748274233_2317112556721799168_n.jpg'],\n",
       " ['https://www.instagram.com/p/BhoYORxFa5a/?taken-by=bbasjtr_singapore',\n",
       "  'Singapore',\n",
       "  0,\n",
       "  'https://scontent-arn2-1.cdninstagram.com/vp/46e144abe00075dd0ef1cd0bed281865/5ADDD64D/t51.2885-15/e15/30086672_2054957448081241_2340154184386478080_n.jpg'],\n",
       " ['https://www.instagram.com/p/BhTegWSnkoe/?taken-by=bbasjtr_singapore',\n",
       "  'Singapore',\n",
       "  0,\n",
       "  'https://scontent-arn2-1.cdninstagram.com/vp/5d06e972bc5f2c1d0295efacafc164fa/5ADE2297/t51.2885-15/e15/29716139_242244773015729_8796429653154725888_n.jpg'],\n",
       " ['https://www.instagram.com/p/Bhba-9EliXm/?taken-by=bbasjtr_singapore',\n",
       "  'Singapore',\n",
       "  '448',\n",
       "  'https://scontent-arn2-1.cdninstagram.com/vp/84454293f886be745b9a53ea32e3fb2d/5B5F2A80/t51.2885-15/e35/29737840_224013271483880_327150523679506432_n.jpg'],\n",
       " ['https://www.instagram.com/p/BhbaJL0lQi-/?taken-by=bbasjtr_singapore',\n",
       "  'Singapore',\n",
       "  '490',\n",
       "  'https://scontent-arn2-1.cdninstagram.com/vp/efb44d3c89360a326de33b65cf128582/5B550506/t51.2885-15/e35/30085566_208804106384612_749181659521220608_n.jpg'],\n",
       " ['https://www.instagram.com/p/BhbpkMKlHI3/?taken-by=bbasjtr_singapore',\n",
       "  'Singapore',\n",
       "  '859',\n",
       "  'https://scontent-arn2-1.cdninstagram.com/vp/a6048a0c36723a2dc0633ecccc7a63d8/5B5E0DFB/t51.2885-15/e35/30077684_194253404634410_1177368840707768320_n.jpg'],\n",
       " ['https://www.instagram.com/p/BhokYaVlW4T/?taken-by=bbasjtr_singapore',\n",
       "  'Singapore',\n",
       "  0,\n",
       "  'https://scontent-arn2-1.cdninstagram.com/vp/c1a21860c9a380acd2a35ac8937af486/5ADE5B66/t51.2885-15/e15/30086269_852746891595380_3251067896910053376_n.jpg'],\n",
       " ['https://www.instagram.com/p/BhWuPI5nqhC/?taken-by=bbasjtr_singapore',\n",
       "  'Singapore',\n",
       "  0,\n",
       "  'https://scontent-arn2-1.cdninstagram.com/vp/c704d08d5756275ddb54db146aeb6b15/5ADE316C/t51.2885-15/e15/30077498_2046475855593262_4193670006992535552_n.jpg'],\n",
       " ['https://www.instagram.com/p/BhmBRp2ljlL/?taken-by=bbasjtr_singapore',\n",
       "  'Singapore',\n",
       "  '497',\n",
       "  'https://scontent-arn2-1.cdninstagram.com/vp/7b244f4a5c6b76d83234d7fab56ac788/5B9C9C9B/t51.2885-15/e35/30590445_165354620846843_6113482214635208704_n.jpg'],\n",
       " ['https://www.instagram.com/p/BhZGZ_ClAfC/?taken-by=bbasjtr_singapore',\n",
       "  'Singapore',\n",
       "  '704',\n",
       "  'https://scontent-arn2-1.cdninstagram.com/vp/a600760804f10b8b1058780e851e9ef0/5B59E60C/t51.2885-15/e35/29738539_2080768395534922_3771068323400253440_n.jpg'],\n",
       " ['https://www.instagram.com/p/BhtqUCBF_Ty/?taken-by=bbasjtr_singapore',\n",
       "  'Singapore',\n",
       "  0,\n",
       "  'https://scontent-arn2-1.cdninstagram.com/vp/3e4fafb45fcfb05c4c3026e74c15f62b/5ADE021C/t51.2885-15/e15/30079583_731936930529199_6306265571222618112_n.jpg'],\n",
       " ['https://www.instagram.com/p/BhzPirPF5gO/?taken-by=bbasjtr_singapore',\n",
       "  'Singapore',\n",
       "  0,\n",
       "  'https://scontent-arn2-1.cdninstagram.com/vp/277d4ea2d962b23e79be509ed5c7b1dc/5ADE5D97/t51.2885-15/e15/30603695_985693321580460_4186655397685231616_n.jpg'],\n",
       " ['https://www.instagram.com/p/BhbdZNGl-gs/?taken-by=bbasjtr_singapore',\n",
       "  'Singapore',\n",
       "  0,\n",
       "  'https://scontent-arn2-1.cdninstagram.com/vp/4ec6a1a5a7130f051c96e58c55090119/5ADE0F25/t51.2885-15/e15/30078071_1737254262984829_8270722361884409856_n.jpg'],\n",
       " ['https://www.instagram.com/p/Bh1pjKcljyR/?taken-by=bbasjtr_singapore',\n",
       "  'Singapore',\n",
       "  '340',\n",
       "  'https://scontent-arn2-1.cdninstagram.com/vp/103a45ee41d885e0a78da105cee19b05/5B582C40/t51.2885-15/e35/30590898_2023360401323257_4885050958716862464_n.jpg']]"
      ]
     },
     "execution_count": 56,
     "metadata": {},
     "output_type": "execute_result"
    }
   ],
   "source": [
    "userStore['bbasjtr_singapore']"
   ]
  },
  {
   "cell_type": "code",
   "execution_count": null,
   "metadata": {
    "collapsed": true
   },
   "outputs": [],
   "source": []
  }
 ],
 "metadata": {
  "kernelspec": {
   "display_name": "Python 3",
   "language": "python",
   "name": "python3"
  },
  "language_info": {
   "codemirror_mode": {
    "name": "ipython",
    "version": 3
   },
   "file_extension": ".py",
   "mimetype": "text/x-python",
   "name": "python",
   "nbconvert_exporter": "python",
   "pygments_lexer": "ipython3",
   "version": "3.6.1"
  }
 },
 "nbformat": 4,
 "nbformat_minor": 2
}
