{
 "cells": [
  {
   "cell_type": "code",
   "execution_count": 153,
   "metadata": {},
   "outputs": [],
   "source": [
    "from selenium import webdriver\n",
    "from selenium.webdriver.support.ui import WebDriverWait\n",
    "from selenium.webdriver.support import expected_conditions as EC\n",
    "from selenium.common.exceptions import TimeoutException\n",
    "import time\n",
    "import re\n",
    "import bs4\n",
    "import requests\n",
    "from collections import defaultdict"
   ]
  },
  {
   "cell_type": "code",
   "execution_count": 157,
   "metadata": {},
   "outputs": [],
   "source": [
    "sites_to_scrape = [\"https://www.instagram.com/explore/locations/6889842/paris-france/\",\n",
    "                   \"https://www.instagram.com/explore/locations/213385402/london-united-kingdom/\",\n",
    "                   \"https://www.instagram.com/explore/locations/118001404/copenhagen-denmark/\",\n",
    "                   \"https://www.instagram.com/explore/locations/212988663/new-york-new-york/\",\n",
    "                   \"https://www.instagram.com/explore/locations/116231/amsterdam-netherlands/\",\n",
    "                   \"https://www.instagram.com/explore/locations/274029466/singapore/\"]\n",
    "\n",
    "scroll = 25\n",
    "allLinks = set()\n",
    "userStore = defaultdict(list)"
   ]
  },
  {
   "cell_type": "code",
   "execution_count": 158,
   "metadata": {},
   "outputs": [],
   "source": [
    "path_to_chromedriver = 'C:\\\\Users\\\\njacobsen\\\\Documents\\\\Chrome Driver\\\\chromedriver.exe'\n",
    "driver = webdriver.Chrome(executable_path = path_to_chromedriver)\n",
    "driver.get(sites_to_scrape[0])\n",
    "\n",
    "for i in range(scroll):\n",
    "    try:\n",
    "        driver.execute_script(\"window.scrollBy(0,500)\")\n",
    "    except:\n",
    "        pass\n",
    "    time.sleep(2)\n",
    "    scrapeLinks = [x.get_attribute('href') for x in driver.find_elements_by_css_selector('a')]\n",
    "    cleanLinks = [x for x in scrapeLinks if x != None and \"/p/\" in x]\n",
    "    allLinks.update(cleanLinks)"
   ]
  },
  {
   "cell_type": "code",
   "execution_count": 172,
   "metadata": {},
   "outputs": [],
   "source": [
    "for i in allLinks:\n",
    "    driver.get(i)\n",
    "    try:\n",
    "        likes = re.sub(\"\\D\",\"\",driver.find_elements_by_class_name(\"_nzn1h\")[0].text)\n",
    "    except:\n",
    "        likes = 0\n",
    "\n",
    "    soup = BeautifulSoup(driver.page_source, \"lxml\")\n",
    "    userName = [x.get_attribute('href') for x in driver.find_elements_by_css_selector('a')][0][26:-1]\n",
    "\n",
    "    image_list = [] # create empty list to save img urls\n",
    "    for link in soup.find_all('img'): # find img tags in HTML\n",
    "        m = re.search('src=\"(.+?)\"', str(link))\n",
    "        image_list.append(m.group(1)) # append url path to list\n",
    "\n",
    "    try:\n",
    "        img = image_list[1]\n",
    "        userStore[userName].append([img, \"paris\", likes])\n",
    "    except:\n",
    "        pass"
   ]
  },
  {
   "cell_type": "code",
   "execution_count": null,
   "metadata": {
    "collapsed": true
   },
   "outputs": [],
   "source": []
  }
 ],
 "metadata": {
  "kernelspec": {
   "display_name": "Python 3",
   "language": "python",
   "name": "python3"
  },
  "language_info": {
   "codemirror_mode": {
    "name": "ipython",
    "version": 3
   },
   "file_extension": ".py",
   "mimetype": "text/x-python",
   "name": "python",
   "nbconvert_exporter": "python",
   "pygments_lexer": "ipython3",
   "version": "3.6.1"
  }
 },
 "nbformat": 4,
 "nbformat_minor": 2
}
