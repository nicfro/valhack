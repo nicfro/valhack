{
 "cells": [
  {
   "cell_type": "code",
   "execution_count": 119,
   "metadata": {},
   "outputs": [],
   "source": [
    "from selenium import webdriver\n",
    "from selenium.webdriver.support.ui import WebDriverWait\n",
    "from selenium.webdriver.support import expected_conditions as EC\n",
    "from selenium.common.exceptions import TimeoutException\n",
    "import time\n",
    "import re\n",
    "import bs4\n",
    "import requests\n",
    "from collections import defaultdict"
   ]
  },
  {
   "cell_type": "code",
   "execution_count": 120,
   "metadata": {},
   "outputs": [],
   "source": [
    "sites_to_scrape = [\"https://www.instagram.com/explore/locations/6889842/paris-france/\",\n",
    "                   \"https://www.instagram.com/explore/tags/london/\",\n",
    "                   \"https://www.instagram.com/explore/locations/118001404/copenhagen-denmark/\",\n",
    "                   \"https://www.instagram.com/explore/locations/212988663/new-york-new-york/\",\n",
    "                   \"https://www.instagram.com/explore/locations/116231/amsterdam-netherlands/\",\n",
    "                   \"https://www.instagram.com/explore/locations/274029466/singapore/\"]\n",
    "\n",
    "scroll = 250\n",
    "\n",
    "userStore = defaultdict(list)"
   ]
  },
  {
   "cell_type": "code",
   "execution_count": 121,
   "metadata": {},
   "outputs": [],
   "source": [
    "path_to_chromedriver = 'C:\\\\Users\\\\njacobsen\\\\Documents\\\\Chrome Driver\\\\chromedriver.exe'\n",
    "driver = webdriver.Chrome(executable_path = path_to_chromedriver)\n",
    "driver.get(sites_to_scrape[0])\n",
    "\n",
    "for i in range(scroll):\n",
    "    try:\n",
    "        driver.execute_script(\"window.scrollBy(0,500)\")\n",
    "    except:\n",
    "        pass\n",
    "    time.sleep(1)\n",
    "\n",
    "links = [x.get_attribute('href') for x in driver.find_elements_by_css_selector('a')]\n",
    "cleanLinks = [x for x in links if x != None and \"/p/\" in x]"
   ]
  },
  {
   "cell_type": "code",
   "execution_count": 130,
   "metadata": {},
   "outputs": [
    {
     "data": {
      "text/plain": [
       "66"
      ]
     },
     "execution_count": 130,
     "metadata": {},
     "output_type": "execute_result"
    }
   ],
   "source": [
    "len(driver.find_elements_by_css_selector('a'))"
   ]
  },
  {
   "cell_type": "code",
   "execution_count": 133,
   "metadata": {},
   "outputs": [
    {
     "data": {
      "text/plain": [
       "['https://www.instagram.com/p/Bh1U9DWgdus/?taken-at=6889842',\n",
       " 'https://www.instagram.com/p/Bh01d3cHi5b/?taken-at=6889842',\n",
       " 'https://www.instagram.com/p/Bh1AYFglyVu/?taken-at=6889842',\n",
       " 'https://www.instagram.com/p/Bh1GpKKhiFe/?taken-at=6889842',\n",
       " 'https://www.instagram.com/p/Bh1I8yojXr1/?taken-at=6889842',\n",
       " 'https://www.instagram.com/p/Bh1J84LHw6l/?taken-at=6889842',\n",
       " 'https://www.instagram.com/p/Bh1MRjHgzfN/?taken-at=6889842',\n",
       " 'https://www.instagram.com/p/Bh1NKjCAT1j/?taken-at=6889842',\n",
       " 'https://www.instagram.com/p/Bh1NSccBqAN/?taken-at=6889842',\n",
       " 'https://www.instagram.com/p/Bh1PROzgZCT/?taken-at=6889842',\n",
       " 'https://www.instagram.com/p/Bh1PROPFhaD/?taken-at=6889842',\n",
       " 'https://www.instagram.com/p/Bh1PRIKgf5k/?taken-at=6889842',\n",
       " 'https://www.instagram.com/p/Bh1PRC-hHvX/?taken-at=6889842',\n",
       " 'https://www.instagram.com/p/Bh1PQibHIRj/?taken-at=6889842',\n",
       " 'https://www.instagram.com/p/Bh1PPqjjSrX/?taken-at=6889842',\n",
       " 'https://www.instagram.com/p/Bh1PPK5h-nl/?taken-at=6889842',\n",
       " 'https://www.instagram.com/p/Bh1PPFmgGs3/?taken-at=6889842',\n",
       " 'https://www.instagram.com/p/Bh1POl9Ax5M/?taken-at=6889842',\n",
       " 'https://www.instagram.com/p/Bh1POj-nYdI/?taken-at=6889842',\n",
       " 'https://www.instagram.com/p/Bh1POixHzHV/?taken-at=6889842',\n",
       " 'https://www.instagram.com/p/Bh1PM8pApkL/?taken-at=6889842',\n",
       " 'https://www.instagram.com/p/Bh1PM3wgQmM/?taken-at=6889842',\n",
       " 'https://www.instagram.com/p/Bh1PMdIjp09/?taken-at=6889842',\n",
       " 'https://www.instagram.com/p/Bh1PMcYFhFM/?taken-at=6889842',\n",
       " 'https://www.instagram.com/p/Bh1PMJ7hw_e/?taken-at=6889842',\n",
       " 'https://www.instagram.com/p/Bh1PLw7nacr/?taken-at=6889842',\n",
       " 'https://www.instagram.com/p/Bh1PLyEBK-O/?taken-at=6889842',\n",
       " 'https://www.instagram.com/p/Bh1PLgIn1oN/?taken-at=6889842',\n",
       " 'https://www.instagram.com/p/Bh1PLbZHyc6/?taken-at=6889842',\n",
       " 'https://www.instagram.com/p/Bh1PJPDgFcj/?taken-at=6889842',\n",
       " 'https://www.instagram.com/p/Bh1PLUzlOak/?taken-at=6889842',\n",
       " 'https://www.instagram.com/p/Bh1PK0wFjcz/?taken-at=6889842',\n",
       " 'https://www.instagram.com/p/Bh1PKzNgBjo/?taken-at=6889842',\n",
       " 'https://www.instagram.com/p/Bh1PKrKA0C7/?taken-at=6889842',\n",
       " 'https://www.instagram.com/p/Bh1PKn6lnNW/?taken-at=6889842',\n",
       " 'https://www.instagram.com/p/Bh1PKf5HvFn/?taken-at=6889842',\n",
       " 'https://www.instagram.com/p/Bh1PKfbnbHA/?taken-at=6889842',\n",
       " 'https://www.instagram.com/p/Bh1PKDFAtJh/?taken-at=6889842',\n",
       " 'https://www.instagram.com/p/Bh1PJ18ApL3/?taken-at=6889842',\n",
       " 'https://www.instagram.com/p/Bh1PIp-gj9Y/?taken-at=6889842',\n",
       " 'https://www.instagram.com/p/Bh1PIWcn-Wu/?taken-at=6889842',\n",
       " 'https://www.instagram.com/p/Bh1PGZTBVr1/?taken-at=6889842',\n",
       " 'https://www.instagram.com/p/Bh1PF_flq01/?taken-at=6889842',\n",
       " 'https://www.instagram.com/p/Bh1PFVAgcXY/?taken-at=6889842',\n",
       " 'https://www.instagram.com/p/Bh1PFAElEx_/?taken-at=6889842',\n",
       " 'https://www.instagram.com/',\n",
       " 'https://www.instagram.com/',\n",
       " 'https://www.instagram.com/accounts/login/',\n",
       " 'https://www.instagram.com/accounts/emailsignup/',\n",
       " 'https://www.instagram.com/about/us/',\n",
       " 'https://help.instagram.com/',\n",
       " 'http://blog.instagram.com/',\n",
       " 'https://instagram-press.com/',\n",
       " 'https://www.instagram.com/developer/',\n",
       " 'https://www.instagram.com/about/jobs/',\n",
       " 'https://www.instagram.com/legal/privacy/',\n",
       " 'https://www.instagram.com/legal/terms/',\n",
       " 'https://www.instagram.com/explore/locations/',\n",
       " 'https://www.instagram.com/directory/profiles/',\n",
       " 'https://www.instagram.com/directory/hashtags/']"
      ]
     },
     "execution_count": 133,
     "metadata": {},
     "output_type": "execute_result"
    }
   ],
   "source": [
    "[x.get_attribute('href') for x in driver.find_elements_by_css_selector('a')]"
   ]
  },
  {
   "cell_type": "code",
   "execution_count": 127,
   "metadata": {},
   "outputs": [
    {
     "data": {
      "text/plain": [
       "66"
      ]
     },
     "execution_count": 127,
     "metadata": {},
     "output_type": "execute_result"
    }
   ],
   "source": [
    "len(links)"
   ]
  },
  {
   "cell_type": "code",
   "execution_count": 117,
   "metadata": {},
   "outputs": [],
   "source": [
    "for i in cleanLinks:\n",
    "    driver.get(i)\n",
    "    try:\n",
    "        likes = re.sub(\"\\D\",\"\",driver.find_elements_by_class_name(\"_nzn1h\")[0].text)\n",
    "    except:\n",
    "        likes = 0\n",
    "\n",
    "    soup = BeautifulSoup(driver.page_source, \"lxml\")\n",
    "    userName = [x.get_attribute('href') for x in driver.find_elements_by_css_selector('a')][0][26:-1]\n",
    "\n",
    "    image_list = [] # create empty list to save img urls\n",
    "    for link in soup.find_all('img'): # find img tags in HTML\n",
    "        m = re.search('src=\"(.+?)\"', str(link))\n",
    "        image_list.append(m.group(1)) # append url path to list\n",
    "\n",
    "    try:\n",
    "        img = image_list[1]\n",
    "        userStore[userName].append([img, \"paris\", likes])\n",
    "    except:\n",
    "        pass"
   ]
  },
  {
   "cell_type": "code",
   "execution_count": 118,
   "metadata": {},
   "outputs": [
    {
     "data": {
      "text/plain": [
       "defaultdict(list,\n",
       "            {'_seredushka_': ['https://scontent-arn2-1.cdninstagram.com/vp/e17dda90fc79aa0778cfbcab5ea33836/5B53F6E8/t51.2885-15/e35/30592694_170322680354874_5248918230096936960_n.jpg',\n",
       "              'paris',\n",
       "              0],\n",
       "             'amadeom2m': ['https://scontent-arn2-1.cdninstagram.com/vp/f39b643f587fe3fdb9def6eb28419f3c/5B6A2844/t51.2885-15/e35/30591938_982877461878124_2747557250028535808_n.jpg',\n",
       "              'paris',\n",
       "              0],\n",
       "             'andrijajo': ['https://scontent-arn2-1.cdninstagram.com/vp/eee0f935b75e5fb765ad1729823a4374/5B5E21D2/t51.2885-15/e35/30591187_162167544465646_4928438696866217984_n.jpg',\n",
       "              'paris',\n",
       "              '8658'],\n",
       "             'arnaudkerane': ['https://scontent-arn2-1.cdninstagram.com/vp/e09d036fb83e5f089a69733c8aa1e28a/5B9CCEA4/t51.2885-15/e35/30603726_1293647820735765_3389734717107470336_n.jpg',\n",
       "              'paris',\n",
       "              0],\n",
       "             'bintou_ds': ['https://scontent-arn2-1.cdninstagram.com/vp/8d2844b392feca76f043ff9fdf38b693/5B5DE43A/t51.2885-15/e35/30592830_816957555169691_787027493994364928_n.jpg',\n",
       "              'paris',\n",
       "              0],\n",
       "             'cargobike_www.cyclutile.fr': ['https://scontent-arn2-1.cdninstagram.com/vp/69c3549b6c2e755c8b74a2d04506ed47/5B5DB6FD/t51.2885-15/e35/30087447_350564568799137_6586345349282004992_n.jpg',\n",
       "              'paris',\n",
       "              0],\n",
       "             'helloqueca': ['https://scontent-arn2-1.cdninstagram.com/vp/5eb86b09bc4c9a7a144f29fd72f94377/5B78A4EB/t51.2885-15/e35/30841364_618962565121211_4085852601147457536_n.jpg',\n",
       "              'paris',\n",
       "              0],\n",
       "             'igorfresh': ['https://scontent-arn2-1.cdninstagram.com/vp/b92976b17f96d6926d90594fcd44e460/5B669DE4/t51.2885-15/e35/30592200_444485155964816_2991994958514225152_n.jpg',\n",
       "              'paris',\n",
       "              '2715'],\n",
       "             'ilgiz_f': ['https://scontent-arn2-1.cdninstagram.com/vp/952fb768d81c03b995beee3495145c20/5B9BE316/t51.2885-15/e35/30590216_174249633236057_5571588737814495232_n.jpg',\n",
       "              'paris',\n",
       "              '515'],\n",
       "             'ironmaik_5': ['https://scontent-arn2-1.cdninstagram.com/vp/4b9e43d50f6190eca272dc8021704351/5B5E7E55/t51.2885-15/e35/30087145_129614697894338_3232436474808893440_n.jpg',\n",
       "              'paris',\n",
       "              '15'],\n",
       "             'jeanfrancoispiege': ['https://scontent-arn2-1.cdninstagram.com/vp/0e7c11c9cc3b19fc58ff36549988a697/5B56E3F9/t51.2885-15/e35/30087416_2041940839210746_5395355453586669568_n.jpg',\n",
       "              'paris',\n",
       "              '2367'],\n",
       "             'jemmareneebrownless': ['https://scontent-arn2-1.cdninstagram.com/vp/74c21a03fb768d16101655cfbf7dc41f/5B56BECB/t51.2885-15/e35/30915345_988398867992683_4712525970727239680_n.jpg',\n",
       "              'paris',\n",
       "              0],\n",
       "             'john_duke_mc': ['https://scontent-arn2-1.cdninstagram.com/vp/ebcd5d5c51118d7d822ded54f0b44f9a/5B68955C/t51.2885-15/e35/30593053_1223181377813519_6299961392455745536_n.jpg',\n",
       "              'paris',\n",
       "              0],\n",
       "             'kate.lavie': ['https://scontent-arn2-1.cdninstagram.com/vp/2fd16d8b27887a7985ca43a206c6c1d7/5B5DCF7D/t51.2885-15/e35/30603592_556490311394506_2432869488786407424_n.jpg',\n",
       "              'paris',\n",
       "              '2340'],\n",
       "             'la.photo75': ['https://scontent-arn2-1.cdninstagram.com/vp/115a46b2730c036b527fa5ea45d2d4ec/5B5D0B36/t51.2885-15/e35/30903688_590576731311121_1616616825401901056_n.jpg',\n",
       "              'paris',\n",
       "              0],\n",
       "             'latteinthehouse': ['https://scontent-arn2-1.cdninstagram.com/vp/4601f1075e6d073d327fee5ce6e6d729/5ADD586E/t51.2885-15/e35/30592088_367202607113527_7646175374778302464_n.jpg',\n",
       "              'paris',\n",
       "              0],\n",
       "             'lindazimany': ['https://scontent-arn2-1.cdninstagram.com/vp/dd53b7c18c4c49d1b1c3678f40effc12/5B6B01D4/t51.2885-15/e35/30085734_225514728032583_5576833335264542720_n.jpg',\n",
       "              'paris',\n",
       "              '2417'],\n",
       "             'malo_lc': ['https://scontent-arn2-1.cdninstagram.com/vp/7b579352653a49b5e5201e925420b757/5B9C3BED/t51.2885-15/e35/30605014_598177903888196_4715431206865338368_n.jpg',\n",
       "              'paris',\n",
       "              0],\n",
       "             'marinej5': ['https://scontent-arn2-1.cdninstagram.com/vp/43153e95d4a88067fbe6043832095a9c/5B648B1E/t51.2885-15/e35/30591961_257403798135038_7152973134738489344_n.jpg',\n",
       "              'paris',\n",
       "              '1540'],\n",
       "             'marinethomasmakeup': ['https://scontent-arn2-1.cdninstagram.com/vp/cccb269a2f0c3d762505ed56fc85ce71/5ADD3524/t51.2885-15/e15/29717834_208251823273616_3804265534380310528_n.jpg',\n",
       "              'paris',\n",
       "              0],\n",
       "             'maxballhaus.photography': ['https://scontent-arn2-1.cdninstagram.com/vp/bb9764323611f3bd7993d9f6cf4a968a/5B629197/t51.2885-15/e35/30590565_982939185202719_2731146682501693440_n.jpg',\n",
       "              'paris',\n",
       "              0],\n",
       "             'musicblog.official': ['https://scontent-arn2-1.cdninstagram.com/vp/6aa963d027bdd8399057904af45b10b2/5B636AAE/t51.2885-15/e35/30086178_582711945424959_647039159604609024_n.jpg',\n",
       "              'paris',\n",
       "              0],\n",
       "             'nastya__kaminskaya': ['https://scontent-arn2-1.cdninstagram.com/vp/0446dc0eae7d6d35a2995130c515a9fb/5B9AA083/t51.2885-15/e35/30923491_186718705384555_1935654606830829568_n.jpg',\n",
       "              'paris',\n",
       "              '1867'],\n",
       "             'piktoband': ['https://scontent-arn2-1.cdninstagram.com/vp/61161de9cee718b4350d89d746e6a034/5B6A64B7/t51.2885-15/e35/30086408_439323916491836_2536535581106634752_n.jpg',\n",
       "              'paris',\n",
       "              0],\n",
       "             'raymondschindeler': ['https://scontent-arn2-1.cdninstagram.com/vp/50dedf5acd57958de134abf57468994a/5B538D42/t51.2885-15/e35/30601651_583300235377789_6634591000385814528_n.jpg',\n",
       "              'paris',\n",
       "              '13'],\n",
       "             'tadaetadae': ['https://scontent-arn2-1.cdninstagram.com/vp/35dae6963ac13f0d3332f01d262ce614/5B69445C/t51.2885-15/e35/30930213_164029034285796_3016511194480508928_n.jpg',\n",
       "              'paris',\n",
       "              '2775'],\n",
       "             'tessyqhall': ['https://scontent-arn2-1.cdninstagram.com/vp/9dc15d7f5212ee2ad906ea013fc2583b/5B655288/t51.2885-15/e35/30604096_206814223383175_2530200014718763008_n.jpg',\n",
       "              'paris',\n",
       "              0],\n",
       "             'thebreakfastdevil': ['https://scontent-arn2-1.cdninstagram.com/vp/a9ebb7c476bfae0fbab2e9edbeb733be/5B657F47/t51.2885-15/e35/30605029_1541871932778467_7856298583786520576_n.jpg',\n",
       "              'paris',\n",
       "              0],\n",
       "             'thestylevagabond': ['https://scontent-arn2-1.cdninstagram.com/vp/15a98b3cdb4b2c91a4f07d8bf373579e/5B6DD641/t51.2885-15/e35/30591125_291280088075646_6163889780477132800_n.jpg',\n",
       "              'paris',\n",
       "              '11'],\n",
       "             'thibautnael': ['https://scontent-arn2-1.cdninstagram.com/vp/f6be74845cba5ca7aba72907eafdde7d/5B65141E/t51.2885-15/e35/30602640_366155337205858_1472574028999819264_n.jpg',\n",
       "              'paris',\n",
       "              0],\n",
       "             'ws_paris': ['https://scontent-arn2-1.cdninstagram.com/vp/ca54d40b7bb508b7b62b0f0ce78bbf68/5B9C5334/t51.2885-15/e35/30603455_973096946179960_318947746029502464_n.jpg',\n",
       "              'paris',\n",
       "              0]})"
      ]
     },
     "execution_count": 118,
     "metadata": {},
     "output_type": "execute_result"
    }
   ],
   "source": [
    "userStore"
   ]
  },
  {
   "cell_type": "code",
   "execution_count": null,
   "metadata": {
    "collapsed": true
   },
   "outputs": [],
   "source": []
  }
 ],
 "metadata": {
  "kernelspec": {
   "display_name": "Python 3",
   "language": "python",
   "name": "python3"
  },
  "language_info": {
   "codemirror_mode": {
    "name": "ipython",
    "version": 3
   },
   "file_extension": ".py",
   "mimetype": "text/x-python",
   "name": "python",
   "nbconvert_exporter": "python",
   "pygments_lexer": "ipython3",
   "version": "3.6.1"
  }
 },
 "nbformat": 4,
 "nbformat_minor": 2
}
